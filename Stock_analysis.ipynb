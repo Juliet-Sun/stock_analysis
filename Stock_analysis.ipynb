{
  "cells": [
    {
      "cell_type": "code",
      "execution_count": 1,
      "metadata": {
        "colab": {
          "base_uri": "https://localhost:8080/"
        },
        "collapsed": true,
        "id": "qJSXKFW1Pk9h",
        "outputId": "8ca69c68-989e-48ca-dd4d-d72b42583e6c"
      },
      "outputs": [
        {
          "name": "stdout",
          "output_type": "stream",
          "text": [
            "Collecting baostock\n",
            "  Downloading baostock-0.8.9-py3-none-any.whl.metadata (3.3 kB)\n",
            "Requirement already satisfied: pandas>=0.18.0 in /Users/huaijinsun/Documents/Code/conda/.conda/lib/python3.11/site-packages (from baostock) (2.2.3)\n",
            "Requirement already satisfied: numpy>=1.23.2 in /Users/huaijinsun/Documents/Code/conda/.conda/lib/python3.11/site-packages (from pandas>=0.18.0->baostock) (1.26.4)\n",
            "Requirement already satisfied: python-dateutil>=2.8.2 in /Users/huaijinsun/Documents/Code/conda/.conda/lib/python3.11/site-packages (from pandas>=0.18.0->baostock) (2.9.0.post0)\n",
            "Requirement already satisfied: pytz>=2020.1 in /Users/huaijinsun/Documents/Code/conda/.conda/lib/python3.11/site-packages (from pandas>=0.18.0->baostock) (2024.1)\n",
            "Requirement already satisfied: tzdata>=2022.7 in /Users/huaijinsun/Documents/Code/conda/.conda/lib/python3.11/site-packages (from pandas>=0.18.0->baostock) (2023.3)\n",
            "Requirement already satisfied: six>=1.5 in /Users/huaijinsun/Documents/Code/conda/.conda/lib/python3.11/site-packages (from python-dateutil>=2.8.2->pandas>=0.18.0->baostock) (1.17.0)\n",
            "Downloading baostock-0.8.9-py3-none-any.whl (45 kB)\n",
            "Installing collected packages: baostock\n",
            "Successfully installed baostock-0.8.9\n",
            "Requirement already satisfied: pandas in /Users/huaijinsun/Documents/Code/conda/.conda/lib/python3.11/site-packages (2.2.3)\n",
            "Requirement already satisfied: numpy>=1.23.2 in /Users/huaijinsun/Documents/Code/conda/.conda/lib/python3.11/site-packages (from pandas) (1.26.4)\n",
            "Requirement already satisfied: python-dateutil>=2.8.2 in /Users/huaijinsun/Documents/Code/conda/.conda/lib/python3.11/site-packages (from pandas) (2.9.0.post0)\n",
            "Requirement already satisfied: pytz>=2020.1 in /Users/huaijinsun/Documents/Code/conda/.conda/lib/python3.11/site-packages (from pandas) (2024.1)\n",
            "Requirement already satisfied: tzdata>=2022.7 in /Users/huaijinsun/Documents/Code/conda/.conda/lib/python3.11/site-packages (from pandas) (2023.3)\n",
            "Requirement already satisfied: six>=1.5 in /Users/huaijinsun/Documents/Code/conda/.conda/lib/python3.11/site-packages (from python-dateutil>=2.8.2->pandas) (1.17.0)\n",
            "Collecting ta\n",
            "  Downloading ta-0.11.0.tar.gz (25 kB)\n",
            "  Preparing metadata (setup.py) ... \u001b[?25ldone\n",
            "\u001b[?25hRequirement already satisfied: numpy in /Users/huaijinsun/Documents/Code/conda/.conda/lib/python3.11/site-packages (from ta) (1.26.4)\n",
            "Requirement already satisfied: pandas in /Users/huaijinsun/Documents/Code/conda/.conda/lib/python3.11/site-packages (from ta) (2.2.3)\n",
            "Requirement already satisfied: python-dateutil>=2.8.2 in /Users/huaijinsun/Documents/Code/conda/.conda/lib/python3.11/site-packages (from pandas->ta) (2.9.0.post0)\n",
            "Requirement already satisfied: pytz>=2020.1 in /Users/huaijinsun/Documents/Code/conda/.conda/lib/python3.11/site-packages (from pandas->ta) (2024.1)\n",
            "Requirement already satisfied: tzdata>=2022.7 in /Users/huaijinsun/Documents/Code/conda/.conda/lib/python3.11/site-packages (from pandas->ta) (2023.3)\n",
            "Requirement already satisfied: six>=1.5 in /Users/huaijinsun/Documents/Code/conda/.conda/lib/python3.11/site-packages (from python-dateutil>=2.8.2->pandas->ta) (1.17.0)\n",
            "Building wheels for collected packages: ta\n",
            "  Building wheel for ta (setup.py) ... \u001b[?25ldone\n",
            "\u001b[?25h  Created wheel for ta: filename=ta-0.11.0-py3-none-any.whl size=29482 sha256=33fb8e5b64f49e35d98cc391e441fd52e5f6bbae14fa8316e529b3c464a027e5\n",
            "  Stored in directory: /Users/huaijinsun/Library/Caches/pip/wheels/a1/d7/29/7781cc5eb9a3659d032d7d15bdd0f49d07d2b24fec29f44bc4\n",
            "Successfully built ta\n",
            "Installing collected packages: ta\n",
            "Successfully installed ta-0.11.0\n"
          ]
        }
      ],
      "source": [
        "!pip install baostock\n",
        "!pip install pandas\n",
        "!pip install ta\n",
        "\n",
        "import baostock as bs\n",
        "import pandas as pd\n",
        "import ta\n",
        "import time"
      ]
    },
    {
      "cell_type": "code",
      "execution_count": 17,
      "metadata": {},
      "outputs": [
        {
          "name": "stdout",
          "output_type": "stream",
          "text": [
            "login success!\n"
          ]
        },
        {
          "data": {
            "text/plain": [
              "<baostock.data.resultset.ResultData at 0x11a565210>"
            ]
          },
          "execution_count": 17,
          "metadata": {},
          "output_type": "execute_result"
        }
      ],
      "source": [
        "bs.login()"
      ]
    },
    {
      "cell_type": "code",
      "execution_count": 18,
      "metadata": {
        "colab": {
          "base_uri": "https://localhost:8080/"
        },
        "id": "Sw2Cueo9cqoT",
        "outputId": "d958db3a-e5bb-4a47-bcd3-7701f7e449ed"
      },
      "outputs": [
        {
          "name": "stdout",
          "output_type": "stream",
          "text": [
            "        code        date            open            high             low  \\\n",
            "0  sh.600000  2025-07-21  171.8033188600  172.8244381400  170.5269197600   \n",
            "1  sh.600000  2025-07-22  171.8033188600  172.4415184100  168.4846812000   \n",
            "2  sh.600000  2025-07-23  168.4846812000  172.1862385900  168.4846812000   \n",
            "3  sh.600000  2025-07-24  170.6545596700  170.6545596700  166.5700825500   \n",
            "\n",
            "            close  \n",
            "0  172.0585986800  \n",
            "1  168.8676009300  \n",
            "2  170.1440000300  \n",
            "3  166.6977224600  \n"
          ]
        }
      ],
      "source": [
        "def get_stock_data(stock_code, start_date, end_date):\n",
        "\n",
        "    rs = bs.query_history_k_data_plus(\n",
        "        stock_code,\n",
        "        \"code,date,open,high,low,close\",\n",
        "        start_date = start_date,\n",
        "        end_date = end_date,\n",
        "        frequency = \"d\",\n",
        "        adjustflag = \"1\"\n",
        "    )\n",
        "    df = rs.get_data()\n",
        "    return df\n",
        "\n",
        "print(get_stock_data(\"sh.600000\", \"2025-07-20\", \"2025-7-24\"))"
      ]
    },
    {
      "cell_type": "code",
      "execution_count": 5,
      "metadata": {
        "id": "z1iWaZ3PdhDY"
      },
      "outputs": [],
      "source": [
        "def mark_MACD_bull(df):\n",
        "  '''\n",
        "  MACD指标\n",
        "  '''\n",
        "  # 计算MACD线（DIF）\n",
        "  df[\"MACD_dif\"] = ta.trend.macd(df[\"close\"])\n",
        "\n",
        "  # 计算MACD信号线（DEA）\n",
        "  df[\"MACD_dea\"] = ta.trend.macd_signal(df[\"close\"])\n",
        "\n",
        "  # 计算MACD柱状图（差值）\n",
        "  df[\"MACD_hist\"] = ta.trend.macd_diff(df[\"close\"])\n",
        "\n",
        "  # 产生买入信号：当DIF上穿DEA（今天DIF>DEA，昨天DIF<=DEA）\n",
        "  df[\"MACD_signal\"] = (df[\"MACD_dif\"] > df[\"MACD_dea\"]) & (df[\"MACD_dif\"].shift(1) <= df[\"MACD_dea\"].shift(1))\n",
        "\n",
        "  golden_cross = (df[\"MACD_dif\"] > df[\"MACD_dea\"]) & (df[\"MACD_dif\"].shift(1) <= df[\"MACD_dea\"].shift(1))\n",
        "  death_cross = (df[\"MACD_dif\"] < df[\"MACD_dea\"]) & (df[\"MACD_dif\"].shift(1) >= df[\"MACD_dea\"].shift(1))\n",
        "\n",
        "  df['macd_bull'] = 0\n",
        "  last_state = 0\n",
        "  for i in range(len(df)):\n",
        "      if i == 0:\n",
        "          df.iloc[i, df.columns.get_loc('macd_bull')] = 0\n",
        "          continue\n",
        "      # 只用昨天的状态和信号判断今天的多空\n",
        "      if golden_cross.iloc[i-1]:\n",
        "          last_state = 1\n",
        "      elif death_cross.iloc[i-1]:\n",
        "          last_state = 0\n",
        "      df.iloc[i, df.columns.get_loc('macd_bull')] = last_state\n",
        "  return df"
      ]
    },
    {
      "cell_type": "code",
      "execution_count": 6,
      "metadata": {
        "id": "8qjgH51xgavV"
      },
      "outputs": [],
      "source": [
        "def mark_boll_bull(df):\n",
        "    window = 20  # Common window for Bollinger Bands\n",
        "    window_dev = 2 # Common standard deviation multiplier\n",
        "\n",
        "    # Initialize the BollingerBands indicator\n",
        "    indicator_bb = ta.volatility.BollingerBands(close=df['close'], window=window, window_dev=window_dev, fillna=False)\n",
        "    df['upper'] = indicator_bb.bollinger_hband() # High band\n",
        "    df['lower'] = indicator_bb.bollinger_lband() # Low band\n",
        "    # 首次突破信号：今天close > upper，昨天close <= upper\n",
        "    cross_up = (df[\"close\"] > df[\"upper\"]) & (df[\"close\"].shift(1) <= df[\"upper\"].shift(1))\n",
        "    # 回撤信号：今天close < upper，昨天close >= upper\n",
        "    cross_down = (df[\"close\"] < df[\"upper\"]) & (df[\"close\"].shift(1) >= df[\"upper\"].shift(1))\n",
        "\n",
        "    df['boll_bull'] = 0\n",
        "    state = 0  # 0表示非买入区间，1表示买入区间\n",
        "\n",
        "    for i in range(len(df)):\n",
        "        if cross_up.iloc[i]:\n",
        "            state = 1  # 进入买入区间\n",
        "        elif cross_down.iloc[i]:\n",
        "            state = 0  # 离开买入区间\n",
        "        df.at[df.index[i], 'boll_bull'] = state\n",
        "\n",
        "    return df"
      ]
    },
    {
      "cell_type": "code",
      "execution_count": 7,
      "metadata": {
        "id": "hB5_SWXdgwDu"
      },
      "outputs": [],
      "source": [
        "def pass_TD(df):\n",
        "    '''\n",
        "    神奇九转（TD Sequential）买入计数逻辑：\n",
        "    如果当前收盘价 < 4天前的收盘价，计数 +1；\n",
        "    连续满足9天，触发买入信号。\n",
        "    '''\n",
        "    df['TD_count'] = 0\n",
        "    df['turn9_signal'] = 0  # 初始化信号列\n",
        "\n",
        "    for i in range(4, len(df)):\n",
        "        count = 0\n",
        "        for j in range(9):\n",
        "            if i - j - 4 < 0:\n",
        "                break  # 防止越界\n",
        "            if df[\"close\"].iloc[i - j] < df[\"close\"].iloc[i - j - 4]:\n",
        "                count += 1\n",
        "            else:\n",
        "                break  # 一旦不连续就终止\n",
        "\n",
        "        df.at[df.index[i], \"TD_count\"] = count\n",
        "\n",
        "        if count == 9:\n",
        "            df.at[df.index[i], \"turn9_signal\"] = 1\n",
        "\n",
        "    return df"
      ]
    },
    {
      "cell_type": "code",
      "execution_count": 20,
      "metadata": {
        "id": "PWxzPpIbpeyj"
      },
      "outputs": [],
      "source": [
        "def get_stock_bull(stock_code, start_date, end_date):\n",
        "\n",
        "  df = get_stock_data(stock_code, start_date, end_date)\n",
        "  df[\"close\"] = pd.to_numeric(df[\"close\"], errors='coerce')\n",
        "\n",
        "  df = mark_MACD_bull(df)\n",
        "  df = mark_boll_bull(df)\n",
        "  df = pass_TD(df)\n",
        "  print(df)\n",
        "\n",
        "  # Calculate final bull signal\n",
        "  if not df.empty:\n",
        "      last_row = df.iloc[-1]\n",
        "      if last_row['macd_bull'] == 1 and last_row['boll_bull'] == 1 and last_row.get('turn9_signal', 0) == 1:\n",
        "          return 1\n",
        "      else:\n",
        "          return 0\n",
        "  else:\n",
        "      return 0"
      ]
    },
    {
      "cell_type": "code",
      "execution_count": 21,
      "metadata": {
        "colab": {
          "base_uri": "https://localhost:8080/",
          "height": 321
        },
        "id": "nM4OYkYBq9Fl",
        "outputId": "6d0547c4-9bd9-411b-9aad-3be32b54db09"
      },
      "outputs": [
        {
          "ename": "KeyError",
          "evalue": "'close'",
          "output_type": "error",
          "traceback": [
            "\u001b[31m---------------------------------------------------------------------------\u001b[39m",
            "\u001b[31mKeyError\u001b[39m                                  Traceback (most recent call last)",
            "\u001b[36mCell\u001b[39m\u001b[36m \u001b[39m\u001b[32mIn[21]\u001b[39m\u001b[32m, line 1\u001b[39m\n\u001b[32m----> \u001b[39m\u001b[32m1\u001b[39m \u001b[38;5;28mprint\u001b[39m(\u001b[43mget_stock_bull\u001b[49m\u001b[43m(\u001b[49m\u001b[33;43m\"\u001b[39;49m\u001b[33;43msh.600001\u001b[39;49m\u001b[33;43m\"\u001b[39;49m\u001b[43m,\u001b[49m\u001b[43m \u001b[49m\u001b[33;43m\"\u001b[39;49m\u001b[33;43m2025-06-20\u001b[39;49m\u001b[33;43m\"\u001b[39;49m\u001b[43m,\u001b[49m\u001b[43m \u001b[49m\u001b[33;43m\"\u001b[39;49m\u001b[33;43m2025-7-24\u001b[39;49m\u001b[33;43m\"\u001b[39;49m\u001b[43m)\u001b[49m)\n",
            "\u001b[36mCell\u001b[39m\u001b[36m \u001b[39m\u001b[32mIn[20]\u001b[39m\u001b[32m, line 4\u001b[39m, in \u001b[36mget_stock_bull\u001b[39m\u001b[34m(stock_code, start_date, end_date)\u001b[39m\n\u001b[32m      1\u001b[39m \u001b[38;5;28;01mdef\u001b[39;00m\u001b[38;5;250m \u001b[39m\u001b[34mget_stock_bull\u001b[39m(stock_code, start_date, end_date):\n\u001b[32m      3\u001b[39m   df = get_stock_data(stock_code, start_date, end_date)\n\u001b[32m----> \u001b[39m\u001b[32m4\u001b[39m   df[\u001b[33m\"\u001b[39m\u001b[33mclose\u001b[39m\u001b[33m\"\u001b[39m] = pd.to_numeric(\u001b[43mdf\u001b[49m\u001b[43m[\u001b[49m\u001b[33;43m\"\u001b[39;49m\u001b[33;43mclose\u001b[39;49m\u001b[33;43m\"\u001b[39;49m\u001b[43m]\u001b[49m, errors=\u001b[33m'\u001b[39m\u001b[33mcoerce\u001b[39m\u001b[33m'\u001b[39m)\n\u001b[32m      6\u001b[39m   df = mark_MACD_bull(df)\n\u001b[32m      7\u001b[39m   df = mark_boll_bull(df)\n",
            "\u001b[36mFile \u001b[39m\u001b[32m~/Documents/Code/conda/.conda/lib/python3.11/site-packages/pandas/core/frame.py:4102\u001b[39m, in \u001b[36mDataFrame.__getitem__\u001b[39m\u001b[34m(self, key)\u001b[39m\n\u001b[32m   4100\u001b[39m \u001b[38;5;28;01mif\u001b[39;00m \u001b[38;5;28mself\u001b[39m.columns.nlevels > \u001b[32m1\u001b[39m:\n\u001b[32m   4101\u001b[39m     \u001b[38;5;28;01mreturn\u001b[39;00m \u001b[38;5;28mself\u001b[39m._getitem_multilevel(key)\n\u001b[32m-> \u001b[39m\u001b[32m4102\u001b[39m indexer = \u001b[38;5;28;43mself\u001b[39;49m\u001b[43m.\u001b[49m\u001b[43mcolumns\u001b[49m\u001b[43m.\u001b[49m\u001b[43mget_loc\u001b[49m\u001b[43m(\u001b[49m\u001b[43mkey\u001b[49m\u001b[43m)\u001b[49m\n\u001b[32m   4103\u001b[39m \u001b[38;5;28;01mif\u001b[39;00m is_integer(indexer):\n\u001b[32m   4104\u001b[39m     indexer = [indexer]\n",
            "\u001b[36mFile \u001b[39m\u001b[32m~/Documents/Code/conda/.conda/lib/python3.11/site-packages/pandas/core/indexes/range.py:417\u001b[39m, in \u001b[36mRangeIndex.get_loc\u001b[39m\u001b[34m(self, key)\u001b[39m\n\u001b[32m    415\u001b[39m         \u001b[38;5;28;01mraise\u001b[39;00m \u001b[38;5;167;01mKeyError\u001b[39;00m(key) \u001b[38;5;28;01mfrom\u001b[39;00m\u001b[38;5;250m \u001b[39m\u001b[34;01merr\u001b[39;00m\n\u001b[32m    416\u001b[39m \u001b[38;5;28;01mif\u001b[39;00m \u001b[38;5;28misinstance\u001b[39m(key, Hashable):\n\u001b[32m--> \u001b[39m\u001b[32m417\u001b[39m     \u001b[38;5;28;01mraise\u001b[39;00m \u001b[38;5;167;01mKeyError\u001b[39;00m(key)\n\u001b[32m    418\u001b[39m \u001b[38;5;28mself\u001b[39m._check_indexing_error(key)\n\u001b[32m    419\u001b[39m \u001b[38;5;28;01mraise\u001b[39;00m \u001b[38;5;167;01mKeyError\u001b[39;00m(key)\n",
            "\u001b[31mKeyError\u001b[39m: 'close'"
          ]
        }
      ],
      "source": [
        "print(get_stock_bull(\"sh.600001\", \"2025-06-20\", \"2025-7-24\"))"
      ]
    },
    {
      "cell_type": "code",
      "execution_count": 14,
      "metadata": {},
      "outputs": [
        {
          "name": "stdout",
          "output_type": "stream",
          "text": [
            "Index(['code', 'code_name', 'ipoDate', 'outDate', 'type', 'status'], dtype='object')\n",
            "Empty DataFrame\n",
            "Columns: [code, code_name, ipoDate, outDate, type, status]\n",
            "Index: []\n"
          ]
        }
      ],
      "source": [
        "data = rs.get_data()\n",
        "df = pd.DataFrame(data, columns=rs.fields)\n",
        "print(df.columns)\n",
        "print(df.head())"
      ]
    },
    {
      "cell_type": "code",
      "execution_count": null,
      "metadata": {
        "colab": {
          "base_uri": "https://localhost:8080/",
          "height": 582
        },
        "id": "2ksXq9T4tQGT",
        "outputId": "4e493eb2-256a-40ac-e317-207b1237fd13"
      },
      "outputs": [
        {
          "name": "stdout",
          "output_type": "stream",
          "text": [
            "sh.000817 failed: 'close'\n",
            "sh.000850 failed: 'close'\n",
            "sh.000973 failed: 'close'\n",
            "sh.000976 failed: 'close'\n",
            "sh.000983 failed: 'close'\n",
            "sh.000996 failed: 'close'\n",
            "sh.000997 failed: 'close'\n",
            "sh.000999 failed: 'close'\n",
            "sh.100001 failed: 'close'\n",
            "sh.100009 failed: 'close'\n",
            "sh.100016 failed: 'close'\n",
            "sh.100087 failed: 'close'\n",
            "sh.100096 failed: 'close'\n",
            "sh.100117 failed: 'close'\n",
            "sh.100177 failed: 'close'\n",
            "sh.100196 failed: 'close'\n",
            "sh.100220 failed: 'close'\n",
            "sh.100236 failed: 'close'\n",
            "sh.100567 failed: 'close'\n",
            "sh.100726 failed: 'close'\n",
            "sh.100795 failed: 'close'\n",
            "sh.110001 failed: 'close'\n",
            "sh.110002 failed: 'close'\n",
            "sh.110003 failed: 'close'\n",
            "sh.110004 failed: 'close'\n",
            "sh.110005 failed: 'close'\n",
            "sh.110006 failed: 'close'\n",
            "sh.110007 failed: 'close'\n",
            "sh.110008 failed: 'close'\n",
            "sh.110009 failed: 'close'\n",
            "sh.110010 failed: 'close'\n",
            "sh.110011 failed: 'close'\n",
            "sh.110012 failed: 'close'\n",
            "sh.110013 failed: 'close'\n",
            "sh.110015 failed: 'close'\n",
            "sh.110016 failed: 'close'\n",
            "sh.110017 failed: 'close'\n",
            "sh.110018 failed: 'close'\n",
            "sh.110019 failed: 'close'\n",
            "sh.110020 failed: 'close'\n",
            "sh.110021 failed: 'close'\n",
            "sh.110022 failed: 'close'\n",
            "sh.110023 failed: 'close'\n",
            "sh.110024 failed: 'close'\n",
            "sh.110025 failed: 'close'\n",
            "sh.110026 failed: 'close'\n",
            "sh.110027 failed: 'close'\n",
            "sh.110028 failed: 'close'\n",
            "sh.110029 failed: 'close'\n",
            "sh.110030 failed: 'close'\n",
            "sh.110031 failed: 'close'\n",
            "sh.110032 failed: 'close'\n",
            "sh.110033 failed: 'close'\n",
            "sh.110034 failed: 'close'\n",
            "sh.110035 failed: 'close'\n",
            "sh.110036 failed: 'close'\n",
            "sh.110037 failed: 'close'\n",
            "sh.110038 failed: 'close'\n",
            "sh.110039 failed: 'close'\n",
            "sh.110040 failed: 'close'\n",
            "sh.110041 failed: 'close'\n",
            "sh.110042 failed: 'close'\n",
            "sh.110043 failed: 'close'\n",
            "sh.110044 failed: 'close'\n"
          ]
        },
        {
          "ename": "KeyboardInterrupt",
          "evalue": "",
          "output_type": "error",
          "traceback": [
            "\u001b[31m---------------------------------------------------------------------------\u001b[39m",
            "\u001b[31mKeyboardInterrupt\u001b[39m                         Traceback (most recent call last)",
            "\u001b[36mCell\u001b[39m\u001b[36m \u001b[39m\u001b[32mIn[11]\u001b[39m\u001b[32m, line 14\u001b[39m\n\u001b[32m     12\u001b[39m \u001b[38;5;28;01mtry\u001b[39;00m:\n\u001b[32m     13\u001b[39m     time.sleep(\u001b[32m0.5\u001b[39m)  \u001b[38;5;66;03m# 每个请求之间停 0.5 秒\u001b[39;00m\n\u001b[32m---> \u001b[39m\u001b[32m14\u001b[39m     result = \u001b[43mget_stock_bull\u001b[49m\u001b[43m(\u001b[49m\u001b[43mcode\u001b[49m\u001b[43m,\u001b[49m\u001b[43m \u001b[49m\u001b[33;43m\"\u001b[39;49m\u001b[33;43m2025-06-20\u001b[39;49m\u001b[33;43m\"\u001b[39;49m\u001b[43m,\u001b[49m\u001b[43m \u001b[49m\u001b[33;43m\"\u001b[39;49m\u001b[33;43m2025-07-24\u001b[39;49m\u001b[33;43m\"\u001b[39;49m\u001b[43m)\u001b[49m\n\u001b[32m     15\u001b[39m     \u001b[38;5;28;01mif\u001b[39;00m result == \u001b[32m1\u001b[39m:\n\u001b[32m     16\u001b[39m         qualified.append(code)\n",
            "\u001b[36mCell\u001b[39m\u001b[36m \u001b[39m\u001b[32mIn[8]\u001b[39m\u001b[32m, line 3\u001b[39m, in \u001b[36mget_stock_bull\u001b[39m\u001b[34m(stock_code, start_date, end_date)\u001b[39m\n\u001b[32m      1\u001b[39m \u001b[38;5;28;01mdef\u001b[39;00m\u001b[38;5;250m \u001b[39m\u001b[34mget_stock_bull\u001b[39m(stock_code, start_date, end_date):\n\u001b[32m----> \u001b[39m\u001b[32m3\u001b[39m   df = \u001b[43mget_stock_data\u001b[49m\u001b[43m(\u001b[49m\u001b[43mstock_code\u001b[49m\u001b[43m,\u001b[49m\u001b[43m \u001b[49m\u001b[43mstart_date\u001b[49m\u001b[43m,\u001b[49m\u001b[43m \u001b[49m\u001b[43mend_date\u001b[49m\u001b[43m)\u001b[49m\n\u001b[32m      4\u001b[39m   df[\u001b[33m\"\u001b[39m\u001b[33mclose\u001b[39m\u001b[33m\"\u001b[39m] = pd.to_numeric(df[\u001b[33m\"\u001b[39m\u001b[33mclose\u001b[39m\u001b[33m\"\u001b[39m], errors=\u001b[33m'\u001b[39m\u001b[33mcoerce\u001b[39m\u001b[33m'\u001b[39m)\n\u001b[32m      6\u001b[39m   df = mark_MACD_bull(df)\n",
            "\u001b[36mCell\u001b[39m\u001b[36m \u001b[39m\u001b[32mIn[4]\u001b[39m\u001b[32m, line 3\u001b[39m, in \u001b[36mget_stock_data\u001b[39m\u001b[34m(stock_code, start_date, end_date)\u001b[39m\n\u001b[32m      1\u001b[39m \u001b[38;5;28;01mdef\u001b[39;00m\u001b[38;5;250m \u001b[39m\u001b[34mget_stock_data\u001b[39m(stock_code, start_date, end_date):\n\u001b[32m----> \u001b[39m\u001b[32m3\u001b[39m     rs = \u001b[43mbs\u001b[49m\u001b[43m.\u001b[49m\u001b[43mquery_history_k_data_plus\u001b[49m\u001b[43m(\u001b[49m\n\u001b[32m      4\u001b[39m \u001b[43m        \u001b[49m\u001b[43mstock_code\u001b[49m\u001b[43m,\u001b[49m\n\u001b[32m      5\u001b[39m \u001b[43m        \u001b[49m\u001b[33;43m\"\u001b[39;49m\u001b[33;43mcode,date,open,high,low,close\u001b[39;49m\u001b[33;43m\"\u001b[39;49m\u001b[43m,\u001b[49m\n\u001b[32m      6\u001b[39m \u001b[43m        \u001b[49m\u001b[43mstart_date\u001b[49m\u001b[43m \u001b[49m\u001b[43m=\u001b[49m\u001b[43m \u001b[49m\u001b[43mstart_date\u001b[49m\u001b[43m,\u001b[49m\n\u001b[32m      7\u001b[39m \u001b[43m        \u001b[49m\u001b[43mend_date\u001b[49m\u001b[43m \u001b[49m\u001b[43m=\u001b[49m\u001b[43m \u001b[49m\u001b[43mend_date\u001b[49m\u001b[43m,\u001b[49m\n\u001b[32m      8\u001b[39m \u001b[43m        \u001b[49m\u001b[43mfrequency\u001b[49m\u001b[43m \u001b[49m\u001b[43m=\u001b[49m\u001b[43m \u001b[49m\u001b[33;43m\"\u001b[39;49m\u001b[33;43md\u001b[39;49m\u001b[33;43m\"\u001b[39;49m\u001b[43m,\u001b[49m\n\u001b[32m      9\u001b[39m \u001b[43m        \u001b[49m\u001b[43madjustflag\u001b[49m\u001b[43m \u001b[49m\u001b[43m=\u001b[49m\u001b[43m \u001b[49m\u001b[33;43m\"\u001b[39;49m\u001b[33;43m1\u001b[39;49m\u001b[33;43m\"\u001b[39;49m\n\u001b[32m     10\u001b[39m \u001b[43m    \u001b[49m\u001b[43m)\u001b[49m\n\u001b[32m     11\u001b[39m     df = rs.get_data()\n\u001b[32m     12\u001b[39m     \u001b[38;5;28;01mreturn\u001b[39;00m df\n",
            "\u001b[36mFile \u001b[39m\u001b[32m~/Documents/Code/conda/.conda/lib/python3.11/site-packages/baostock/security/history.py:23\u001b[39m, in \u001b[36mquery_history_k_data_plus\u001b[39m\u001b[34m(code, fields, start_date, end_date, frequency, adjustflag)\u001b[39m\n\u001b[32m     20\u001b[39m \u001b[38;5;28;01mdef\u001b[39;00m\u001b[38;5;250m \u001b[39m\u001b[34mquery_history_k_data_plus\u001b[39m(code, fields, start_date=\u001b[38;5;28;01mNone\u001b[39;00m, end_date=\u001b[38;5;28;01mNone\u001b[39;00m,\n\u001b[32m     21\u001b[39m                               frequency=\u001b[33m'\u001b[39m\u001b[33md\u001b[39m\u001b[33m'\u001b[39m, adjustflag=\u001b[33m'\u001b[39m\u001b[33m3\u001b[39m\u001b[33m'\u001b[39m):\n\u001b[32m     22\u001b[39m \u001b[38;5;250m    \u001b[39m\u001b[33;03m\"\"\"获取历史K线plus\"\"\"\u001b[39;00m\n\u001b[32m---> \u001b[39m\u001b[32m23\u001b[39m     \u001b[38;5;28;01mreturn\u001b[39;00m \u001b[43m__query_history_k_data_plus_page\u001b[49m\u001b[43m(\u001b[49m\u001b[32;43m1\u001b[39;49m\u001b[43m,\u001b[49m\u001b[43m \u001b[49m\u001b[43mcons\u001b[49m\u001b[43m.\u001b[49m\u001b[43mBAOSTOCK_PER_PAGE_COUNT\u001b[49m\u001b[43m,\u001b[49m\u001b[43m \u001b[49m\u001b[43mcode\u001b[49m\u001b[43m,\u001b[49m\u001b[43m \u001b[49m\u001b[43mfields\u001b[49m\u001b[43m,\u001b[49m\u001b[43m \u001b[49m\u001b[43mstart_date\u001b[49m\u001b[43m,\u001b[49m\n\u001b[32m     24\u001b[39m \u001b[43m                                            \u001b[49m\u001b[43mend_date\u001b[49m\u001b[43m,\u001b[49m\u001b[43m \u001b[49m\u001b[43mfrequency\u001b[49m\u001b[43m,\u001b[49m\u001b[43m \u001b[49m\u001b[43madjustflag\u001b[49m\u001b[43m)\u001b[49m\n",
            "\u001b[36mFile \u001b[39m\u001b[32m~/Documents/Code/conda/.conda/lib/python3.11/site-packages/baostock/security/history.py:104\u001b[39m, in \u001b[36m__query_history_k_data_plus_page\u001b[39m\u001b[34m(cur_page_num, per_page_count, code, fields, start_date, end_date, frequency, adjustflag)\u001b[39m\n\u001b[32m    101\u001b[39m head_body = msg_header + msg_body\n\u001b[32m    102\u001b[39m crc32str = zlib.crc32(\u001b[38;5;28mbytes\u001b[39m(head_body, encoding=\u001b[33m'\u001b[39m\u001b[33mutf-8\u001b[39m\u001b[33m'\u001b[39m))\n\u001b[32m--> \u001b[39m\u001b[32m104\u001b[39m receive_data = \u001b[43msock\u001b[49m\u001b[43m.\u001b[49m\u001b[43msend_msg\u001b[49m\u001b[43m(\u001b[49m\u001b[43mhead_body\u001b[49m\u001b[43m \u001b[49m\u001b[43m+\u001b[49m\u001b[43m \u001b[49m\u001b[43mcons\u001b[49m\u001b[43m.\u001b[49m\u001b[43mMESSAGE_SPLIT\u001b[49m\u001b[43m \u001b[49m\u001b[43m+\u001b[49m\u001b[43m \u001b[49m\u001b[38;5;28;43mstr\u001b[39;49m\u001b[43m(\u001b[49m\u001b[43mcrc32str\u001b[49m\u001b[43m)\u001b[49m\u001b[43m)\u001b[49m\n\u001b[32m    106\u001b[39m \u001b[38;5;28;01mif\u001b[39;00m receive_data \u001b[38;5;129;01mis\u001b[39;00m \u001b[38;5;28;01mNone\u001b[39;00m \u001b[38;5;129;01mor\u001b[39;00m receive_data.strip() == \u001b[33m\"\u001b[39m\u001b[33m\"\u001b[39m:\n\u001b[32m    107\u001b[39m     data.error_code = cons.BSERR_RECVSOCK_FAIL\n",
            "\u001b[36mFile \u001b[39m\u001b[32m~/Documents/Code/conda/.conda/lib/python3.11/site-packages/baostock/util/socketutil.py:68\u001b[39m, in \u001b[36msend_msg\u001b[39m\u001b[34m(msg)\u001b[39m\n\u001b[32m     66\u001b[39m receive = \u001b[33mb\u001b[39m\u001b[33m\"\u001b[39m\u001b[33m\"\u001b[39m\n\u001b[32m     67\u001b[39m \u001b[38;5;28;01mwhile\u001b[39;00m \u001b[38;5;28;01mTrue\u001b[39;00m:\n\u001b[32m---> \u001b[39m\u001b[32m68\u001b[39m     recv = \u001b[43mdefault_socket\u001b[49m\u001b[43m.\u001b[49m\u001b[43mrecv\u001b[49m\u001b[43m(\u001b[49m\u001b[32;43m8192\u001b[39;49m\u001b[43m)\u001b[49m\n\u001b[32m     69\u001b[39m     receive += recv\n\u001b[32m     70\u001b[39m     \u001b[38;5;66;03m# 判断是否读取完\u001b[39;00m\n",
            "\u001b[31mKeyboardInterrupt\u001b[39m: "
          ]
        }
      ],
      "source": [
        "# 查询所有A股\n",
        "rs = bs.query_stock_basic()\n",
        "data = rs.get_data()\n",
        "df = pd.DataFrame(data, columns=rs.fields)\n",
        "\n",
        "# 查看结果（code：股票代码，ipoDate: 上市时间, type：1代表股票、2代表指数、3代表ETF、等等，status: 0代表退市状态、1代表可交易状态 ）\n",
        "# print(df.head())\n",
        "\n",
        "qualified = []\n",
        "\n",
        "for code in df['code'][6:1000]:\n",
        "    try:\n",
        "        time.sleep(0.5)  # 每个请求之间停 0.5 秒\n",
        "        result = get_stock_bull(code, \"2025-06-20\", \"2025-07-24\")\n",
        "        if result == 1:\n",
        "            print(code)\n",
        "            qualified.append(code)\n",
        "    except Exception as e:\n",
        "        print(f\"{code} failed: {e}\")\n",
        "\n",
        "print(qualified)"
      ]
    },
    {
      "cell_type": "code",
      "execution_count": 16,
      "metadata": {},
      "outputs": [
        {
          "name": "stdout",
          "output_type": "stream",
          "text": [
            "logout success!\n"
          ]
        },
        {
          "data": {
            "text/plain": [
              "<baostock.data.resultset.ResultData at 0x11a546110>"
            ]
          },
          "execution_count": 16,
          "metadata": {},
          "output_type": "execute_result"
        }
      ],
      "source": [
        "bs.logout()"
      ]
    }
  ],
  "metadata": {
    "colab": {
      "provenance": []
    },
    "kernelspec": {
      "display_name": "Python 3",
      "name": "python3"
    },
    "language_info": {
      "codemirror_mode": {
        "name": "ipython",
        "version": 3
      },
      "file_extension": ".py",
      "mimetype": "text/x-python",
      "name": "python",
      "nbconvert_exporter": "python",
      "pygments_lexer": "ipython3",
      "version": "3.11.11"
    }
  },
  "nbformat": 4,
  "nbformat_minor": 0
}
